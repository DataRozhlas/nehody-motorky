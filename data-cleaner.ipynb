{
 "cells": [
  {
   "cell_type": "code",
   "execution_count": 12,
   "metadata": {
    "collapsed": false
   },
   "outputs": [],
   "source": [
    "import pandas as pd\n",
    "import matplotlib.pyplot as plt\n",
    "%matplotlib inline"
   ]
  },
  {
   "cell_type": "code",
   "execution_count": 2,
   "metadata": {
    "collapsed": true
   },
   "outputs": [],
   "source": [
    "data = pd.read_csv(r'../nehody-chodci/scratch/nehody_all.csv')"
   ]
  },
  {
   "cell_type": "code",
   "execution_count": 5,
   "metadata": {
    "collapsed": false
   },
   "outputs": [
    {
     "data": {
      "text/plain": [
       "Index(['X', 'Y', 'id', 'obec', 'datum', 'komunikace_druh', 'komunikace_cislo',\n",
       "       'zavineni', 'ridic_kategorie', 'ridic_ovlivneni', 'vinik_alkohol',\n",
       "       'ridic_stav', 'obeti_usmrceno', 'obeti_lehce', 'obeti_tezce',\n",
       "       'vozidel_celkem', 'vinik_vozidlo_znacka', 'vinik_vozidlo_po_nehode',\n",
       "       'skoda', 'unik_hmot', 'vinik_vozidlo_druh', 'vinik_vozidlo_rok_vyroby',\n",
       "       'vinik_vozidlo_vlastnik', 'vinik_skoda_na_vozidle', 'vyprosteni',\n",
       "       'nehoda_charakter', 'srazka_vozidel_druh', 'hlavni_priciny',\n",
       "       'povrch_stav', 'meteo', 'rozhled', 'nehoda_poloha', 'prednost_v_jizde',\n",
       "       'smerove_podminky', 'druh_krizujici_komunikace', 'smer_jizdy',\n",
       "       'nehoda_druh', 'pevna_prekazka_druh', 'povrch_druh', 'komunikace_stav',\n",
       "       'viditelnost', 'komunikace_deleni', 'rizeni_provozu', 'objekty',\n",
       "       'misto_nehody', 'smyk'],\n",
       "      dtype='object')"
      ]
     },
     "execution_count": 5,
     "metadata": {},
     "output_type": "execute_result"
    }
   ],
   "source": [
    "data.columns"
   ]
  },
  {
   "cell_type": "code",
   "execution_count": 7,
   "metadata": {
    "collapsed": false
   },
   "outputs": [],
   "source": [
    "motorky = data[data.vinik_vozidlo_druh.str.startswith('motocykl')]"
   ]
  },
  {
   "cell_type": "code",
   "execution_count": 8,
   "metadata": {
    "collapsed": false
   },
   "outputs": [
    {
     "data": {
      "text/plain": [
       "Index(['X', 'Y', 'id', 'obec', 'datum', 'komunikace_druh', 'komunikace_cislo',\n",
       "       'zavineni', 'ridic_kategorie', 'ridic_ovlivneni', 'vinik_alkohol',\n",
       "       'ridic_stav', 'obeti_usmrceno', 'obeti_lehce', 'obeti_tezce',\n",
       "       'vozidel_celkem', 'vinik_vozidlo_znacka', 'vinik_vozidlo_po_nehode',\n",
       "       'skoda', 'unik_hmot', 'vinik_vozidlo_druh', 'vinik_vozidlo_rok_vyroby',\n",
       "       'vinik_vozidlo_vlastnik', 'vinik_skoda_na_vozidle', 'vyprosteni',\n",
       "       'nehoda_charakter', 'srazka_vozidel_druh', 'hlavni_priciny',\n",
       "       'povrch_stav', 'meteo', 'rozhled', 'nehoda_poloha', 'prednost_v_jizde',\n",
       "       'smerove_podminky', 'druh_krizujici_komunikace', 'smer_jizdy',\n",
       "       'nehoda_druh', 'pevna_prekazka_druh', 'povrch_druh', 'komunikace_stav',\n",
       "       'viditelnost', 'komunikace_deleni', 'rizeni_provozu', 'objekty',\n",
       "       'misto_nehody', 'smyk'],\n",
       "      dtype='object')"
      ]
     },
     "execution_count": 8,
     "metadata": {},
     "output_type": "execute_result"
    }
   ],
   "source": [
    "data.columns"
   ]
  },
  {
   "cell_type": "code",
   "execution_count": 21,
   "metadata": {
    "collapsed": false
   },
   "outputs": [
    {
     "name": "stderr",
     "output_type": "stream",
     "text": [
      "C:\\Anaconda3\\lib\\site-packages\\pandas\\core\\generic.py:2177: SettingWithCopyWarning: \n",
      "A value is trying to be set on a copy of a slice from a DataFrame.\n",
      "Try using .loc[row_indexer,col_indexer] = value instead\n",
      "\n",
      "See the the caveats in the documentation: http://pandas.pydata.org/pandas-docs/stable/indexing.html#indexing-view-versus-copy\n",
      "  self[name] = value\n"
     ]
    }
   ],
   "source": [
    "motorky.datum = pd.to_datetime(motorky.datum)"
   ]
  },
  {
   "cell_type": "code",
   "execution_count": 27,
   "metadata": {
    "collapsed": false
   },
   "outputs": [
    {
     "data": {
      "text/plain": [
       "X                                   float64\n",
       "Y                                   float64\n",
       "id                                    int64\n",
       "obec                                 object\n",
       "datum                        datetime64[ns]\n",
       "komunikace_druh                      object\n",
       "komunikace_cislo                      int64\n",
       "zavineni                             object\n",
       "ridic_kategorie                      object\n",
       "ridic_ovlivneni                      object\n",
       "vinik_alkohol                        object\n",
       "ridic_stav                           object\n",
       "obeti_usmrceno                        int64\n",
       "obeti_lehce                           int64\n",
       "obeti_tezce                           int64\n",
       "vozidel_celkem                        int64\n",
       "vinik_vozidlo_znacka                 object\n",
       "vinik_vozidlo_po_nehode              object\n",
       "skoda                                 int64\n",
       "unik_hmot                            object\n",
       "vinik_vozidlo_druh                   object\n",
       "vinik_vozidlo_rok_vyroby            float64\n",
       "vinik_vozidlo_vlastnik               object\n",
       "vinik_skoda_na_vozidle                int64\n",
       "vyprosteni                           object\n",
       "nehoda_charakter                     object\n",
       "srazka_vozidel_druh                  object\n",
       "hlavni_priciny                       object\n",
       "povrch_stav                          object\n",
       "meteo                                object\n",
       "rozhled                              object\n",
       "nehoda_poloha                        object\n",
       "prednost_v_jizde                     object\n",
       "smerove_podminky                     object\n",
       "druh_krizujici_komunikace            object\n",
       "smer_jizdy                           object\n",
       "nehoda_druh                          object\n",
       "pevna_prekazka_druh                  object\n",
       "povrch_druh                          object\n",
       "komunikace_stav                      object\n",
       "viditelnost                          object\n",
       "komunikace_deleni                    object\n",
       "rizeni_provozu                       object\n",
       "objekty                              object\n",
       "misto_nehody                         object\n",
       "smyk                                 object\n",
       "dtype: object"
      ]
     },
     "execution_count": 27,
     "metadata": {},
     "output_type": "execute_result"
    }
   ],
   "source": [
    "motorky.dtypes"
   ]
  },
  {
   "cell_type": "code",
   "execution_count": 44,
   "metadata": {
    "collapsed": false
   },
   "outputs": [],
   "source": [
    "motorky = motorky.sort('datum')"
   ]
  },
  {
   "cell_type": "code",
   "execution_count": 47,
   "metadata": {
    "collapsed": false
   },
   "outputs": [
    {
     "name": "stdout",
     "output_type": "stream",
     "text": [
      "-3071\n"
     ]
    }
   ],
   "source": [
    "from datetime import date\n",
    "\n",
    "d0 = date(2007, 1, 1)\n",
    "d1 = date(2015, 5, 30)\n",
    "delta = d0 - d1\n",
    "print (delta.days)"
   ]
  }
 ],
 "metadata": {
  "kernelspec": {
   "display_name": "Python 3",
   "language": "python",
   "name": "python3"
  },
  "language_info": {
   "codemirror_mode": {
    "name": "ipython",
    "version": 3
   },
   "file_extension": ".py",
   "mimetype": "text/x-python",
   "name": "python",
   "nbconvert_exporter": "python",
   "pygments_lexer": "ipython3",
   "version": "3.4.3"
  }
 },
 "nbformat": 4,
 "nbformat_minor": 0
}
