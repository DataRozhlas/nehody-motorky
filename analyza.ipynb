{
 "cells": [
  {
   "cell_type": "code",
   "execution_count": 30,
   "metadata": {
    "collapsed": true
   },
   "outputs": [],
   "source": [
    "import pandas as pd\n",
    "import matplotlib.pyplot as plt\n",
    "import random\n",
    "%matplotlib inline"
   ]
  },
  {
   "cell_type": "code",
   "execution_count": 31,
   "metadata": {
    "collapsed": true
   },
   "outputs": [],
   "source": [
    "data = pd.read_csv(r'data/motonehody_tbl.txt')"
   ]
  },
  {
   "cell_type": "code",
   "execution_count": 32,
   "metadata": {
    "collapsed": false
   },
   "outputs": [],
   "source": [
    "data.datum = pd.to_datetime(data.datum)"
   ]
  },
  {
   "cell_type": "code",
   "execution_count": 33,
   "metadata": {
    "collapsed": false
   },
   "outputs": [
    {
     "data": {
      "text/plain": [
       "Index(['OBJECTID', 'X', 'Y', 'id', 'obec', 'datum', 'komunikace_druh',\n",
       "       'komunikace_cislo', 'zavineni', 'ridic_kategorie', 'ridic_ovlivneni',\n",
       "       'vinik_alkohol', 'ridic_stav', 'obeti_usmrceno', 'obeti_lehce',\n",
       "       'obeti_tezce', 'vozidel_celkem', 'vinik_vozidlo_znacka',\n",
       "       'vinik_vozidlo_po_nehode', 'skoda', 'unik_hmot', 'vinik_vozidlo_druh',\n",
       "       'vinik_vozidlo_rok_vyroby', 'vinik_vozidlo_vlastnik',\n",
       "       'vinik_skoda_na_vozidle', 'vyprosteni', 'nehoda_charakter',\n",
       "       'srazka_vozidel_druh', 'hlavni_priciny', 'povrch_stav', 'meteo',\n",
       "       'rozhled', 'nehoda_poloha', 'prednost_v_jizde', 'smerove_podminky',\n",
       "       'druh_krizujici_komunikace', 'smer_jizdy', 'nehoda_druh',\n",
       "       'pevna_prekazka_druh', 'povrch_druh', 'komunikace_stav', 'viditelnost',\n",
       "       'komunikace_deleni', 'rizeni_provozu', 'objekty', 'misto_nehody',\n",
       "       'smyk'],\n",
       "      dtype='object')"
      ]
     },
     "execution_count": 33,
     "metadata": {},
     "output_type": "execute_result"
    }
   ],
   "source": [
    "data.columns"
   ]
  },
  {
   "cell_type": "code",
   "execution_count": 38,
   "metadata": {
    "collapsed": false
   },
   "outputs": [
    {
     "data": {
      "text/plain": [
       "nepř. rychlosti dopravně technickému stavu vozovky (zatáčka,klesání,stoupání,šířka apod.)                                                 3599\n",
       "nezvládnutí řízení vozidla                                                                                                                1651\n",
       "nedodržení bezpečné vzdálenosti za vozidlem                                                                                               1598\n",
       "řidič se plně nevěnoval řízení vozidla                                                                                                    1484\n",
       "nepř. rychlosti vlastnostem vozidla a nákladu                                                                                             1123\n",
       "nezaviněná řidičem                                                                                                                         857\n",
       "nepř. rychlosti stavu vozovky (náledí, výtluky, bláto, mokrý povrch apod.)                                                                 831\n",
       "jízda po nesprávné straně, vjetí do protisměru                                                                                             525\n",
       "nepřizpůsobení rychlosti hustotě provozu                                                                                                   422\n",
       "předjíždění vlevo vozidla odbočujícího vlevo                                                                                               373\n",
       "proti příkazu dopravní značky DEJ PŘEDNOST                                                                                                 360\n",
       "jiný druh nepřiměřené rychlosti                                                                                                            281\n",
       "jiný druh nesprávného způsobu jízdy                                                                                                        216\n",
       "vjetí na nezpevněnou krajnici                                                                                                              192\n",
       "při odbočování vlevo                                                                                                                       142\n",
       "při předjíždění došlo k ohrožení předjížděného  řidiče (vynucované zařazení, předjížděný musel  prudce brzdit, měnit směr jízdy apod.)     134\n",
       "vozidlu přijíždějícímu zprava                                                                                                              132\n",
       "při předj. došlo k ohrožení protijed. řidiče  (špatný odhad vzdálenosti k předjetí apod.)                                                  126\n",
       "vyhýbání bez dostatečné boční vůle                                                                                                         115\n",
       "při vjíždění na silnici                                                                                                                    112\n",
       "proti příkazu dopravní značky STŮJ DEJ PŘEDNOST                                                                                            104\n",
       "bezohledná, agresivní, neohleduplná jízda                                                                                                   92\n",
       "chodci na vyznačeném přechodu                                                                                                               91\n",
       "překročení předepsané rychl.stanovené pravidly                                                                                              89\n",
       "jízda na “červené světlo“                                                                                                                   71\n",
       "při přejíždění z jednoho pruhu do druhého                                                                                                   64\n",
       "nesprávné otáčení nebo couvání                                                                                                              62\n",
       "předjíždění vpravo                                                                                                                          58\n",
       "při přejíždění přejeta podélná čára souvislá                                                                                                50\n",
       "chyby při udání směru jízdy                                                                                                                 41\n",
       "předjíždění bez dostatečného rozhledu (v nepřehledné zatáčce nebo její blízkosti, před vrcholem stoupání apod.)                             38\n",
       "předjíždění bez dostatečného bočního odstupu                                                                                                37\n",
       "při odbočování vlevo souběžně jedoucímu vozidlu                                                                                             35\n",
       "nepřizpůsobení rychlosti viditelnosti (mlha, soumrak, jízda na tlumená světla apod.)                                                        34\n",
       "překročení rychlosti stanovené dopravní značkou                                                                                             31\n",
       "přehlédnutí již předjíždějícího souběžně jedoucího vozidla                                                                                  26\n",
       "jiný druh nesprávného předjíždění                                                                                                           25\n",
       "předj. v místech, kde je zakázáno dopr.značkou                                                                                              23\n",
       "nehoda při provádění služebního zákroku                                                                                                     22\n",
       "jiné nedání přednosti                                                                                                                       17\n",
       "jiná technická závada                                                                                                                       17\n",
       "zablokování kol v důsledku mechanické závady  (zadřený motor,převodovka,spadlý řetěz apod.)                                                 16\n",
       "nepř. rychlosti bočnímu, nárazovému větru (i při míjení,předjíždění vozidel)                                                                16\n",
       "defekt pneumatiky způsobený průrazem nebo náhlým únikem vzduchu                                                                             16\n",
       "při otáčení nebo couvání                                                                                                                    13\n",
       "jízda (vjetí) jednosměrnou ulicí, silnicí                                                                                                   10\n",
       "závada řízení                                                                                                                                9\n",
       "náhlé bezdůvodné snížení rychlosti jízdy                                                                                                     7\n",
       "závada provozní brzdy                                                                                                                        5\n",
       "upadnutí,ztráta kola vozidla (i rezervního)                                                                                                  5\n",
       "při zařazování do proudu jedoucích vozidel ze stanice, místa zastavení nebo stání                                                            5\n",
       "samovolné rozjetí nezajištěného vozidla                                                                                                      4\n",
       "protijedoucímu vozidlu při objíždění překážky                                                                                                4\n",
       "lom závěsu kola, pružiny                                                                                                                     4\n",
       "opotřebení běhounu pláště pod stanovenou mez                                                                                                 2\n",
       "tramvaji která odbočuje                                                                                                                      2\n",
       "nepřipojená nebo poškozená spojovací hadice pro  brzdění přípojného vozidla                                                                  1\n",
       "bránění v předjíždění                                                                                                                        1\n",
       "závada závěsu pro přívěs                                                                                                                     1\n",
       "nesprávné uložení nákladu                                                                                                                    1\n",
       "dtype: int64"
      ]
     },
     "execution_count": 38,
     "metadata": {},
     "output_type": "execute_result"
    }
   ],
   "source": [
    "data['hlavni_priciny'].value_counts()"
   ]
  },
  {
   "cell_type": "code",
   "execution_count": 40,
   "metadata": {
    "collapsed": false
   },
   "outputs": [
    {
     "data": {
      "text/plain": [
       "6860323000"
      ]
     },
     "execution_count": 40,
     "metadata": {},
     "output_type": "execute_result"
    }
   ],
   "source": [
    "data['skoda'].sum()*1000"
   ]
  },
  {
   "cell_type": "code",
   "execution_count": 42,
   "metadata": {
    "collapsed": false
   },
   "outputs": [
    {
     "data": {
      "text/html": [
       "<div>\n",
       "<table border=\"1\" class=\"dataframe\">\n",
       "  <thead>\n",
       "    <tr style=\"text-align: right;\">\n",
       "      <th></th>\n",
       "      <th>obeti_tezce</th>\n",
       "    </tr>\n",
       "    <tr>\n",
       "      <th>datum</th>\n",
       "      <th></th>\n",
       "    </tr>\n",
       "  </thead>\n",
       "  <tbody>\n",
       "    <tr>\n",
       "      <th>2007-12-31</th>\n",
       "      <td>398</td>\n",
       "    </tr>\n",
       "    <tr>\n",
       "      <th>2008-12-31</th>\n",
       "      <td>381</td>\n",
       "    </tr>\n",
       "    <tr>\n",
       "      <th>2009-12-31</th>\n",
       "      <td>401</td>\n",
       "    </tr>\n",
       "    <tr>\n",
       "      <th>2010-12-31</th>\n",
       "      <td>287</td>\n",
       "    </tr>\n",
       "    <tr>\n",
       "      <th>2011-12-31</th>\n",
       "      <td>358</td>\n",
       "    </tr>\n",
       "    <tr>\n",
       "      <th>2012-12-31</th>\n",
       "      <td>305</td>\n",
       "    </tr>\n",
       "    <tr>\n",
       "      <th>2013-12-31</th>\n",
       "      <td>294</td>\n",
       "    </tr>\n",
       "    <tr>\n",
       "      <th>2014-12-31</th>\n",
       "      <td>325</td>\n",
       "    </tr>\n",
       "    <tr>\n",
       "      <th>2015-12-31</th>\n",
       "      <td>52</td>\n",
       "    </tr>\n",
       "  </tbody>\n",
       "</table>\n",
       "</div>"
      ],
      "text/plain": [
       "            obeti_tezce\n",
       "datum                  \n",
       "2007-12-31          398\n",
       "2008-12-31          381\n",
       "2009-12-31          401\n",
       "2010-12-31          287\n",
       "2011-12-31          358\n",
       "2012-12-31          305\n",
       "2013-12-31          294\n",
       "2014-12-31          325\n",
       "2015-12-31           52"
      ]
     },
     "execution_count": 42,
     "metadata": {},
     "output_type": "execute_result"
    }
   ],
   "source": [
    "#obeti tezce\n",
    "serie = data[['datum', 'obeti_tezce']]\n",
    "serie = serie.set_index('datum')\n",
    "serie.resample('A', how='sum')"
   ]
  },
  {
   "cell_type": "code",
   "execution_count": 41,
   "metadata": {
    "collapsed": false
   },
   "outputs": [
    {
     "data": {
      "text/html": [
       "<div>\n",
       "<table border=\"1\" class=\"dataframe\">\n",
       "  <thead>\n",
       "    <tr style=\"text-align: right;\">\n",
       "      <th></th>\n",
       "      <th>obeti_usmrceno</th>\n",
       "    </tr>\n",
       "    <tr>\n",
       "      <th>datum</th>\n",
       "      <th></th>\n",
       "    </tr>\n",
       "  </thead>\n",
       "  <tbody>\n",
       "    <tr>\n",
       "      <th>2007-12-31</th>\n",
       "      <td>86</td>\n",
       "    </tr>\n",
       "    <tr>\n",
       "      <th>2008-12-31</th>\n",
       "      <td>74</td>\n",
       "    </tr>\n",
       "    <tr>\n",
       "      <th>2009-12-31</th>\n",
       "      <td>61</td>\n",
       "    </tr>\n",
       "    <tr>\n",
       "      <th>2010-12-31</th>\n",
       "      <td>67</td>\n",
       "    </tr>\n",
       "    <tr>\n",
       "      <th>2011-12-31</th>\n",
       "      <td>45</td>\n",
       "    </tr>\n",
       "    <tr>\n",
       "      <th>2012-12-31</th>\n",
       "      <td>49</td>\n",
       "    </tr>\n",
       "    <tr>\n",
       "      <th>2013-12-31</th>\n",
       "      <td>41</td>\n",
       "    </tr>\n",
       "    <tr>\n",
       "      <th>2014-12-31</th>\n",
       "      <td>61</td>\n",
       "    </tr>\n",
       "    <tr>\n",
       "      <th>2015-12-31</th>\n",
       "      <td>8</td>\n",
       "    </tr>\n",
       "  </tbody>\n",
       "</table>\n",
       "</div>"
      ],
      "text/plain": [
       "            obeti_usmrceno\n",
       "datum                     \n",
       "2007-12-31              86\n",
       "2008-12-31              74\n",
       "2009-12-31              61\n",
       "2010-12-31              67\n",
       "2011-12-31              45\n",
       "2012-12-31              49\n",
       "2013-12-31              41\n",
       "2014-12-31              61\n",
       "2015-12-31               8"
      ]
     },
     "execution_count": 41,
     "metadata": {},
     "output_type": "execute_result"
    }
   ],
   "source": [
    "#obeti mrtvi\n",
    "serie = data[['datum', 'obeti_usmrceno']]\n",
    "serie = serie.set_index('datum')\n",
    "serie.resample('A', how='sum')"
   ]
  },
  {
   "cell_type": "code",
   "execution_count": 47,
   "metadata": {
    "collapsed": false,
    "scrolled": true
   },
   "outputs": [
    {
     "data": {
      "text/html": [
       "<div>\n",
       "<table border=\"1\" class=\"dataframe\">\n",
       "  <thead>\n",
       "    <tr style=\"text-align: right;\">\n",
       "      <th></th>\n",
       "      <th>vinik_skoda_na_vozidle</th>\n",
       "    </tr>\n",
       "    <tr>\n",
       "      <th>datum</th>\n",
       "      <th></th>\n",
       "    </tr>\n",
       "  </thead>\n",
       "  <tbody>\n",
       "    <tr>\n",
       "      <th>2007-12-31</th>\n",
       "      <td>798409</td>\n",
       "    </tr>\n",
       "    <tr>\n",
       "      <th>2008-12-31</th>\n",
       "      <td>683807</td>\n",
       "    </tr>\n",
       "    <tr>\n",
       "      <th>2009-12-31</th>\n",
       "      <td>581588</td>\n",
       "    </tr>\n",
       "    <tr>\n",
       "      <th>2010-12-31</th>\n",
       "      <td>462067</td>\n",
       "    </tr>\n",
       "    <tr>\n",
       "      <th>2011-12-31</th>\n",
       "      <td>496165</td>\n",
       "    </tr>\n",
       "    <tr>\n",
       "      <th>2012-12-31</th>\n",
       "      <td>452877</td>\n",
       "    </tr>\n",
       "    <tr>\n",
       "      <th>2013-12-31</th>\n",
       "      <td>470754</td>\n",
       "    </tr>\n",
       "    <tr>\n",
       "      <th>2014-12-31</th>\n",
       "      <td>516764</td>\n",
       "    </tr>\n",
       "    <tr>\n",
       "      <th>2015-12-31</th>\n",
       "      <td>127879</td>\n",
       "    </tr>\n",
       "  </tbody>\n",
       "</table>\n",
       "</div>"
      ],
      "text/plain": [
       "            vinik_skoda_na_vozidle\n",
       "datum                             \n",
       "2007-12-31                  798409\n",
       "2008-12-31                  683807\n",
       "2009-12-31                  581588\n",
       "2010-12-31                  462067\n",
       "2011-12-31                  496165\n",
       "2012-12-31                  452877\n",
       "2013-12-31                  470754\n",
       "2014-12-31                  516764\n",
       "2015-12-31                  127879"
      ]
     },
     "execution_count": 47,
     "metadata": {},
     "output_type": "execute_result"
    }
   ],
   "source": [
    "#skoda\n",
    "serie = data[['datum', 'vinik_skoda_na_vozidle']]\n",
    "serie = serie.set_index('datum')\n",
    "serie.resample('A', how='sum')"
   ]
  },
  {
   "cell_type": "code",
   "execution_count": null,
   "metadata": {
    "collapsed": true
   },
   "outputs": [],
   "source": []
  }
 ],
 "metadata": {
  "kernelspec": {
   "display_name": "Python 3",
   "language": "python",
   "name": "python3"
  },
  "language_info": {
   "codemirror_mode": {
    "name": "ipython",
    "version": 3
   },
   "file_extension": ".py",
   "mimetype": "text/x-python",
   "name": "python",
   "nbconvert_exporter": "python",
   "pygments_lexer": "ipython3",
   "version": "3.4.3"
  }
 },
 "nbformat": 4,
 "nbformat_minor": 0
}
